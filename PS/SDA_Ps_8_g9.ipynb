{
  "cells": [
    {
      "cell_type": "markdown",
      "metadata": {
        "id": "Zfkiq16OgZNb"
      },
      "source": [
        "## Statistical data analysis\n",
        "### Problem Sheet 9\n",
        "###Exercise 2\n"
      ]
    },
    {
      "cell_type": "code",
      "execution_count": 111,
      "metadata": {
        "id": "UI_1gdWggZNc"
      },
      "outputs": [],
      "source": [
        "# necessary libraries\n",
        "from PIL import Image\n",
        "import numpy as np\n",
        "import os\n",
        "import matplotlib.pyplot as plt"
      ]
    },
    {
      "cell_type": "markdown",
      "source": [
        "Loading the Image and converting into ndarray"
      ],
      "metadata": {
        "id": "bZubmltW2fPK"
      }
    },
    {
      "cell_type": "code",
      "execution_count": 112,
      "metadata": {
        "id": "RIpeECnigZNe"
      },
      "outputs": [],
      "source": [
        "file = os.path.abspath(\"/content/Rubix_cube_ps9.jpg\")\n",
        "path = os.path.dirname(file)"
      ]
    },
    {
      "cell_type": "code",
      "execution_count": 113,
      "metadata": {
        "id": "wtAasHN3gZNf",
        "colab": {
          "base_uri": "https://localhost:8080/",
          "height": 0
        },
        "outputId": "c0d42d32-b60d-461e-fa24-e5e5e6c757cb"
      },
      "outputs": [
        {
          "output_type": "stream",
          "name": "stdout",
          "text": [
            "The image and pixel has shape: (410, 400, 3)\n"
          ]
        }
      ],
      "source": [
        "arr = np.array(Image.open(file))\n",
        "print(\"The image and pixel has shape: \" + str(arr.shape))\n"
      ]
    },
    {
      "cell_type": "markdown",
      "metadata": {
        "id": "XaupDdligZNf"
      },
      "source": [
        "*So, we can see the resolution of the image is 410x400 where each pixel has RGB values. Which means each pixel is a combination of three values in range of 0-255 .*"
      ]
    },
    {
      "cell_type": "markdown",
      "metadata": {
        "id": "2H03rnUbgZNg"
      },
      "source": [
        "## Implementing the k-means algorithm. "
      ]
    },
    {
      "cell_type": "code",
      "execution_count": 114,
      "metadata": {
        "id": "Xzek3HbLgZNh"
      },
      "outputs": [],
      "source": [
        "def getCenter(X, R):\n",
        "    # initializing shapes\n",
        "    le, wi, n = X.shape\n",
        "    k = R.shape[-1]\n",
        "    # initializing Means\n",
        "    Miu = np.zeros((k, n))\n",
        "\n",
        "    # converting R shape into 2d\n",
        "    R = R.reshape((le*wi, k))\n",
        "    # converting X as 2d\n",
        "    X = X.reshape((le*wi, n))\n",
        "\n",
        "    # iterate over each cluster\n",
        "    for i in range(k):\n",
        "        # get the pixels that belong to cluster i and calculate their mean value\n",
        "        Miu[i] = X[np.where(R[:, i] == 1)].mean(axis=0)\n",
        "\n",
        "    return Miu"
      ]
    },
    {
      "cell_type": "code",
      "execution_count": 115,
      "metadata": {
        "id": "LncRDBntgZNg"
      },
      "outputs": [],
      "source": [
        "def getCluster(X, Miu):\n",
        "    # initializing shapes\n",
        "    le, wi, n = X.shape\n",
        "    k = Miu.shape[0]\n",
        "    # initializing R in 2D shape\n",
        "    R = np.zeros((le*wi, k))\n",
        "\n",
        "    # convert the image ndarray into 2d shape\n",
        "    X = arr.reshape((le*wi,n))\n",
        "\n",
        "    # calculating the interval\n",
        "    interv = np.linalg.norm(np.repeat(X, k, axis=0) - np.tile(Miu, (le * wi, 1)), axis=1, keepdims=True)\n",
        "\n",
        "    # converting interval array shape \n",
        "    interv = interv.reshape(le*wi, k)\n",
        "\n",
        "    # finding ic as the index of the closest mean\n",
        "    ic = np.argmin(interv, axis=1)\n",
        "\n",
        "    # plugging 1 to the closest mean\n",
        "    R[np.arange(le*wi),ic] = 1\n",
        "    # converting R into 3d shape\n",
        "    R = R.reshape((le,wi,k))\n",
        "\n",
        "    return R\n"
      ]
    },
    {
      "cell_type": "code",
      "execution_count": 116,
      "metadata": {
        "id": "yGxbs5nOgZNi"
      },
      "outputs": [],
      "source": [
        "def kmeans(X, k):\n",
        "    # initializing shapes\n",
        "    le, wi, n = X.shape\n",
        "    y = np.zeros([le,wi,])\n",
        "    # initializing R as 3d shape\n",
        "    R = np.zeros((le,wi,k))\n",
        "    i = 0\n",
        "    verbose = 0\n",
        "    maxiter = 200\n",
        "    tolerance = 1e-2\n",
        "    \n",
        "    # Initializing means randomly\n",
        "    np.random.seed(9)\n",
        "    Miu = np.random.uniform(low=np.min(X), high=np.max(X), size=(k, n))\n",
        "\n",
        "    # iterate until convergence or maxiter\n",
        "    while True:\n",
        "        # stopping criterion maxiter\n",
        "        if i>maxiter:\n",
        "            break\n",
        "        i += 1\n",
        "\n",
        "        if verbose == 1:\n",
        "            print(Miu)\n",
        "        \n",
        "        try:\n",
        "            # calculating the cluster pixel for\n",
        "            newR = getCluster(X, Miu)\n",
        "            # if newR ~ R, then break\n",
        "            assert np.abs(newR - R).sum() < tolerance*newR.size\n",
        "            break\n",
        "        except AssertionError:\n",
        "            # if R is different than newR, then plugin the newR\n",
        "            R = newR\n",
        "            # calculating the new cluster means\n",
        "            Miu = getCenter(X, R)\n",
        "    \n",
        "    # calculate y as the cluster pixel\n",
        "    y = np.argmax(R.reshape((le*wi, k)), axis=1).reshape((le, wi))\n",
        "\n",
        "    return (y, Miu)\n"
      ]
    },
    {
      "cell_type": "markdown",
      "metadata": {
        "id": "I3eK7VCygZNi"
      },
      "source": [
        "## Using k-means cluster all the pixels of an image into k clusters and assign each pixel the color represented by its nearest cluster center."
      ]
    },
    {
      "cell_type": "code",
      "execution_count": 117,
      "metadata": {
        "id": "oAcviLB-gZNi"
      },
      "outputs": [],
      "source": [
        "def getImage(X, k):\n",
        "    # initializing segmented image\n",
        "    seImage = np.zeros(X.shape)\n",
        "    # run k-means\n",
        "    y, Miu = kmeans(X, k)\n",
        "\n",
        "    # assigning each pixel the color of the nearest cluster center\n",
        "    for i in range(k):\n",
        "        seImage[np.where(y == i)] = Miu[i]\n",
        "\n",
        "    # generating the segmented Image\n",
        "    data = Image.fromarray(np.uint8(seImage))\n",
        "\n",
        "    return data"
      ]
    },
    {
      "cell_type": "code",
      "execution_count": 118,
      "metadata": {
        "id": "ARwtHeIKgZNj",
        "colab": {
          "base_uri": "https://localhost:8080/",
          "height": 427
        },
        "outputId": "28c401d4-e493-43be-d962-8370c686f72b"
      },
      "outputs": [
        {
          "output_type": "execute_result",
          "data": {
            "text/plain": [
              "<PIL.Image.Image image mode=RGB size=400x410 at 0x7FF312C30460>"
            ],
            "image/png": "[encoded data removed]"
          },
          "metadata": {},
          "execution_count": 118
        }
      ],
      "source": [
        "# 2 clusters\n",
        "image = getImage(arr, 2)\n",
        "image"
      ]
    },
    {
      "cell_type": "code",
      "execution_count": 119,
      "metadata": {
        "id": "uqRjzdKogZNj",
        "colab": {
          "base_uri": "https://localhost:8080/",
          "height": 427
        },
        "outputId": "5cf7a28b-2f47-4ea0-ed19-b3462982ac5d"
      },
      "outputs": [
        {
          "output_type": "execute_result",
          "data": {
            "text/plain": [
              "<PIL.Image.Image image mode=RGB size=400x410 at 0x7FF312C236A0>"
            ],
            "image/png": "[encoded data removed]"
          },
          "metadata": {},
          "execution_count": 119
        }
      ],
      "source": [
        "# 3 clusters\n",
        "image = getImage(arr, 3)\n",
        "image"
      ]
    },
    {
      "cell_type": "code",
      "execution_count": 120,
      "metadata": {
        "id": "GfKW0nbhgZNk",
        "colab": {
          "base_uri": "https://localhost:8080/",
          "height": 427
        },
        "outputId": "f9f43913-a1c4-4b8d-bc09-850977ef3560"
      },
      "outputs": [
        {
          "output_type": "execute_result",
          "data": {
            "text/plain": [
              "<PIL.Image.Image image mode=RGB size=400x410 at 0x7FF312C304C0>"
            ],
            "image/png": "[encoded data removed]"
          },
          "metadata": {},
          "execution_count": 120
        }
      ],
      "source": [
        "# 6 clusters\n",
        "image = getImage(arr, 6)\n",
        "image"
      ]
    },
    {
      "cell_type": "code",
      "execution_count": 121,
      "metadata": {
        "id": "Bqx9X6TrgZNk",
        "colab": {
          "base_uri": "https://localhost:8080/",
          "height": 427
        },
        "outputId": "ea2844c0-7bac-458d-b4f0-2d74bf89d4ea"
      },
      "outputs": [
        {
          "output_type": "execute_result",
          "data": {
            "text/plain": [
              "<PIL.Image.Image image mode=RGB size=400x410 at 0x7FF312C23610>"
            ],
            "image/png": "[encoded data removed]"
          },
          "metadata": {},
          "execution_count": 121
        }
      ],
      "source": [
        "# 7 clusters\n",
        "image = getImage(arr, 7)\n",
        "image"
      ]
    },
    {
      "cell_type": "markdown",
      "source": [
        "### **These are different clusters where each pixel color is taken from its nearest cluster center.**"
      ],
      "metadata": {
        "id": "KyhJJJj6M1ne"
      }
    }
  ],
  "metadata": {
    "interpreter": {
      "hash": "e25ee95d7dbb47a8c345f922cf307d459985596a41a5bc9ce779ae4db8528d9e"
    },
    "kernelspec": {
      "display_name": "Python 3.9.7 64-bit ('ml2': conda)",
      "language": "python",
      "name": "python3"
    },
    "language_info": {
      "codemirror_mode": {
        "name": "ipython",
        "version": 3
      },
      "file_extension": ".py",
      "mimetype": "text/x-python",
      "name": "python",
      "nbconvert_exporter": "python",
      "pygments_lexer": "ipython3",
      "version": "3.9.7"
    },
    "orig_nbformat": 4,
    "colab": {
      "provenance": []
    }
  },
  "nbformat": 4,
  "nbformat_minor": 0
}