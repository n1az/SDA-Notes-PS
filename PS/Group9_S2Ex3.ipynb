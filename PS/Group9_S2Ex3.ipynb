{
  "nbformat": 4,
  "nbformat_minor": 0,
  "metadata": {
    "colab": {
      "provenance": []
    },
    "kernelspec": {
      "name": "python3",
      "display_name": "Python 3"
    },
    "language_info": {
      "name": "python"
    }
  },
  "cells": [
    {
      "cell_type": "markdown",
      "source": [
        "###Statistical Data Analysis Problem sheet 2\n",
        "\n",
        "1. Produce a scatterplot of the data."
      ],
      "metadata": {
        "id": "9n_Jxl6-bKXg"
      }
    },
    {
      "cell_type": "markdown",
      "source": [
        "Lets import the text file and create the dataframe."
      ],
      "metadata": {
        "id": "oF4BIZfXcYMB"
      }
    },
    {
      "cell_type": "code",
      "execution_count": 18,
      "metadata": {
        "colab": {
          "base_uri": "https://localhost:8080/",
          "height": 206
        },
        "id": "2qDFsoxUbGia",
        "outputId": "6d9b6151-481b-4354-a9f6-18b6f8cd1e5a"
      },
      "outputs": [
        {
          "output_type": "execute_result",
          "data": {
            "text/plain": [
              "   Year  Wine  Cluster\n",
              "0  1971   5.6   116.37\n",
              "1  1973   3.2    82.77\n",
              "2  1974   4.5   110.68\n",
              "3  1975   4.2    97.50\n",
              "4  1976   5.2   115.88"
            ],
            "text/html": [
              "\n",
              "  <div id=\"df-0375e32f-7d71-4678-9732-b8552d8078ee\">\n",
              "    <div class=\"colab-df-container\">\n",
              "      <div>\n",
              "<style scoped>\n",
              "    .dataframe tbody tr th:only-of-type {\n",
              "        vertical-align: middle;\n",
              "    }\n",
              "\n",
              "    .dataframe tbody tr th {\n",
              "        vertical-align: top;\n",
              "    }\n",
              "\n",
              "    .dataframe thead th {\n",
              "        text-align: right;\n",
              "    }\n",
              "</style>\n",
              "<table border=\"1\" class=\"dataframe\">\n",
              "  <thead>\n",
              "    <tr style=\"text-align: right;\">\n",
              "      <th></th>\n",
              "      <th>Year</th>\n",
              "      <th>Wine</th>\n",
              "      <th>Cluster</th>\n",
              "    </tr>\n",
              "  </thead>\n",
              "  <tbody>\n",
              "    <tr>\n",
              "      <th>0</th>\n",
              "      <td>1971</td>\n",
              "      <td>5.6</td>\n",
              "      <td>116.37</td>\n",
              "    </tr>\n",
              "    <tr>\n",
              "      <th>1</th>\n",
              "      <td>1973</td>\n",
              "      <td>3.2</td>\n",
              "      <td>82.77</td>\n",
              "    </tr>\n",
              "    <tr>\n",
              "      <th>2</th>\n",
              "      <td>1974</td>\n",
              "      <td>4.5</td>\n",
              "      <td>110.68</td>\n",
              "    </tr>\n",
              "    <tr>\n",
              "      <th>3</th>\n",
              "      <td>1975</td>\n",
              "      <td>4.2</td>\n",
              "      <td>97.50</td>\n",
              "    </tr>\n",
              "    <tr>\n",
              "      <th>4</th>\n",
              "      <td>1976</td>\n",
              "      <td>5.2</td>\n",
              "      <td>115.88</td>\n",
              "    </tr>\n",
              "  </tbody>\n",
              "</table>\n",
              "</div>\n",
              "      <button class=\"colab-df-convert\" onclick=\"convertToInteractive('df-0375e32f-7d71-4678-9732-b8552d8078ee')\"\n",
              "              title=\"Convert this dataframe to an interactive table.\"\n",
              "              style=\"display:none;\">\n",
              "        \n",
              "  <svg xmlns=\"http://www.w3.org/2000/svg\" height=\"24px\"viewBox=\"0 0 24 24\"\n",
              "       width=\"24px\">\n",
              "    <path d=\"M0 0h24v24H0V0z\" fill=\"none\"/>\n",
              "    <path d=\"M18.56 5.44l.94 2.06.94-2.06 2.06-.94-2.06-.94-.94-2.06-.94 2.06-2.06.94zm-11 1L8.5 8.5l.94-2.06 2.06-.94-2.06-.94L8.5 2.5l-.94 2.06-2.06.94zm10 10l.94 2.06.94-2.06 2.06-.94-2.06-.94-.94-2.06-.94 2.06-2.06.94z\"/><path d=\"M17.41 7.96l-1.37-1.37c-.4-.4-.92-.59-1.43-.59-.52 0-1.04.2-1.43.59L10.3 9.45l-7.72 7.72c-.78.78-.78 2.05 0 2.83L4 21.41c.39.39.9.59 1.41.59.51 0 1.02-.2 1.41-.59l7.78-7.78 2.81-2.81c.8-.78.8-2.07 0-2.86zM5.41 20L4 18.59l7.72-7.72 1.47 1.35L5.41 20z\"/>\n",
              "  </svg>\n",
              "      </button>\n",
              "      \n",
              "  <style>\n",
              "    .colab-df-container {\n",
              "      display:flex;\n",
              "      flex-wrap:wrap;\n",
              "      gap: 12px;\n",
              "    }\n",
              "\n",
              "    .colab-df-convert {\n",
              "      background-color: #E8F0FE;\n",
              "      border: none;\n",
              "      border-radius: 50%;\n",
              "      cursor: pointer;\n",
              "      display: none;\n",
              "      fill: #1967D2;\n",
              "      height: 32px;\n",
              "      padding: 0 0 0 0;\n",
              "      width: 32px;\n",
              "    }\n",
              "\n",
              "    .colab-df-convert:hover {\n",
              "      background-color: #E2EBFA;\n",
              "      box-shadow: 0px 1px 2px rgba(60, 64, 67, 0.3), 0px 1px 3px 1px rgba(60, 64, 67, 0.15);\n",
              "      fill: #174EA6;\n",
              "    }\n",
              "\n",
              "    [theme=dark] .colab-df-convert {\n",
              "      background-color: #3B4455;\n",
              "      fill: #D2E3FC;\n",
              "    }\n",
              "\n",
              "    [theme=dark] .colab-df-convert:hover {\n",
              "      background-color: #434B5C;\n",
              "      box-shadow: 0px 1px 3px 1px rgba(0, 0, 0, 0.15);\n",
              "      filter: drop-shadow(0px 1px 2px rgba(0, 0, 0, 0.3));\n",
              "      fill: #FFFFFF;\n",
              "    }\n",
              "  </style>\n",
              "\n",
              "      <script>\n",
              "        const buttonEl =\n",
              "          document.querySelector('#df-0375e32f-7d71-4678-9732-b8552d8078ee button.colab-df-convert');\n",
              "        buttonEl.style.display =\n",
              "          google.colab.kernel.accessAllowed ? 'block' : 'none';\n",
              "\n",
              "        async function convertToInteractive(key) {\n",
              "          const element = document.querySelector('#df-0375e32f-7d71-4678-9732-b8552d8078ee');\n",
              "          const dataTable =\n",
              "            await google.colab.kernel.invokeFunction('convertToInteractive',\n",
              "                                                     [key], {});\n",
              "          if (!dataTable) return;\n",
              "\n",
              "          const docLinkHtml = 'Like what you see? Visit the ' +\n",
              "            '<a target=\"_blank\" href=https://colab.research.google.com/notebooks/data_table.ipynb>data table notebook</a>'\n",
              "            + ' to learn more about interactive tables.';\n",
              "          element.innerHTML = '';\n",
              "          dataTable['output_type'] = 'display_data';\n",
              "          await google.colab.output.renderOutput(dataTable, element);\n",
              "          const docLink = document.createElement('div');\n",
              "          docLink.innerHTML = docLinkHtml;\n",
              "          element.appendChild(docLink);\n",
              "        }\n",
              "      </script>\n",
              "    </div>\n",
              "  </div>\n",
              "  "
            ]
          },
          "metadata": {},
          "execution_count": 18
        }
      ],
      "source": [
        "#importing all the libraries\n",
        "import matplotlib.pyplot as plt\n",
        "import pandas as pd\n",
        "import numpy as np\n",
        "import seaborn as sns\n",
        "from mpl_toolkits.mplot3d import Axes3D\n",
        "\n",
        "df = pd.read_csv('/content/drive/MyDrive/1-DS/wine.txt', sep=\" \")\n",
        "df.head()"
      ]
    },
    {
      "cell_type": "code",
      "source": [
        "df[\"Wine\"]"
      ],
      "metadata": {
        "colab": {
          "base_uri": "https://localhost:8080/"
        },
        "id": "ZDight0ydI82",
        "outputId": "56a664eb-f461-4beb-ee42-5b6df3258f38"
      },
      "execution_count": 2,
      "outputs": [
        {
          "output_type": "execute_result",
          "data": {
            "text/plain": [
              "0     5.6\n",
              "1     3.2\n",
              "2     4.5\n",
              "3     4.2\n",
              "4     5.2\n",
              "5     2.7\n",
              "6     4.8\n",
              "7     4.9\n",
              "8     4.7\n",
              "9     4.1\n",
              "10    4.4\n",
              "11    5.4\n",
              "Name: Wine, dtype: float64"
            ]
          },
          "metadata": {},
          "execution_count": 2
        }
      ]
    },
    {
      "cell_type": "code",
      "source": [
        "#setting style\n",
        "sns.color_palette(\"Set2\")\n",
        "sns.set_style(\"whitegrid\")\n",
        "#define figure size\n",
        "sns.set(rc={\"figure.figsize\":(10, 6)}) #width=8, height=4\n",
        "#ploting scatterplot\n",
        "sns.scatterplot(df[\"Cluster\"],df[\"Wine\"], df[\"Year\"], legend=\"full\", palette=\"coolwarm\")\n",
        "plt.title(\"Scatterplot of the whole data\")\n",
        "\n",
        "plt.show()"
      ],
      "metadata": {
        "colab": {
          "base_uri": "https://localhost:8080/",
          "height": 466
        },
        "id": "f_l7XoH7djsV",
        "outputId": "7996be29-97a4-4a2b-e1e7-8dcebf081b5c"
      },
      "execution_count": 9,
      "outputs": [
        {
          "output_type": "stream",
          "name": "stderr",
          "text": [
            "/usr/local/lib/python3.7/dist-packages/seaborn/_decorators.py:43: FutureWarning: Pass the following variables as keyword args: x, y, hue. From version 0.12, the only valid positional argument will be `data`, and passing other arguments without an explicit keyword will result in an error or misinterpretation.\n",
            "  FutureWarning\n"
          ]
        },
        {
          "output_type": "display_data",
          "data": {
            "text/plain": [
              "<Figure size 720x432 with 1 Axes>"
            ],
            "image/png": "[encoded data removed]"
          },
          "metadata": {}
        }
      ]
    },
    {
      "cell_type": "markdown",
      "source": [
        "2. Assume the a simple linear regression model and estimate the parameters β0 and\n",
        "β1 in the regression model (use your own derivation).\n"
      ],
      "metadata": {
        "id": "G7Bgsc45qF57"
      }
    },
    {
      "cell_type": "code",
      "source": [
        "#defining x and y for the regression model\n",
        "x = df[\"Cluster\"]\n",
        "y = df[\"Wine\"]\n",
        "\n",
        "N = len(x)\n",
        "#deriving a regression function\n",
        "def lin_reg(x,y):\n",
        "  x_mean=x.mean()\n",
        "  y_mean=y.mean()\n",
        "  x_var = x - x_mean\n",
        "  y_var = y - y_mean\n",
        "  #sum of products of x and y variance\n",
        "  sumof_xy_var = (x_var * y_var).sum()\n",
        "  \n",
        "  sumof_sig_x = ((x_var)**2).sum()\n",
        "  #now we can estimate b1\n",
        "  b1 = sumof_xy_var/sumof_sig_x\n",
        "  #estimating b0\n",
        "  b0 = y_mean - (b1*x_mean)\n",
        "  #printing the line as y = mx + b = b1(x) + b0\n",
        "  simple_reg_lin = 'y = {}β + {}'.format(round(b1, 4),round(b0, 4))\n",
        "\n",
        "  return(b0, b1, simple_reg_lin)\n"
      ],
      "metadata": {
        "id": "YmenPZCQeWLF"
      },
      "execution_count": 16,
      "outputs": []
    },
    {
      "cell_type": "code",
      "source": [
        "#plugging in the data into the model\n",
        "lin_reg(x,y)"
      ],
      "metadata": {
        "colab": {
          "base_uri": "https://localhost:8080/"
        },
        "id": "y9oyqw-Sx5H8",
        "outputId": "066d8953-1910-4b4d-e7c9-22c1711caa27"
      },
      "execution_count": 17,
      "outputs": [
        {
          "output_type": "execute_result",
          "data": {
            "text/plain": [
              "(-1.027902709556801, 0.051380577893637314, 'y = 0.0514β + -1.0279')"
            ]
          },
          "metadata": {},
          "execution_count": 17
        }
      ]
    },
    {
      "cell_type": "markdown",
      "source": [
        "3. Plot the regression line\n",
        "\n",
        "To find the regression line we need \n",
        "\n",
        "* Correlation Coefficient (R) \n",
        "* Coefficient of Determination (R²)\n",
        "\n",
        "We will be using pearson's correlation coefficient here to get the R and then simply square it to get the coefficient of determination which will tell us the goodness of fit.\n"
      ],
      "metadata": {
        "id": "eem2qXh4zP58"
      }
    },
    {
      "cell_type": "code",
      "source": [
        "#Pearson's correlation coefficient\n",
        "def Pear_cor_coef(x,y):\n",
        "  #sum of the products of x and y\n",
        "  sumof_xy = (x * y).sum()\n",
        "  x_sum = x.sum()\n",
        "  y_sum = y.sum()\n",
        "  #product of summation of x and y\n",
        "  prod_sum = x_sum*y_sum\n",
        "  #getting the summation of x and y square\n",
        "  sumof_x_sq = (x**2).sum()\n",
        "  sumof_y_sq = (y**2).sum()\n",
        "  #now estimating R\n",
        "  r = ((N*sumof_xy)-((x_sum * y_sum))) / (np.sqrt(((N * sumof_x_sq)-(x_sum**2))*((N * sumof_y_sq)-(y_sum**2))))\n",
        "  return r\n",
        "\n",
        "R = Pear_cor_coef(x,y)\n",
        "#now estimating coefficient of determination\n",
        "coef_det = R**2\n"
      ],
      "metadata": {
        "id": "zocB7dUbyFLS"
      },
      "execution_count": 20,
      "outputs": []
    },
    {
      "cell_type": "code",
      "source": [
        "#printing the correaltion coefficient and coefficient of determination\n",
        "print('Correlation Coefficient: ', R)\n",
        "print('Coefficient of Determination: ', coef_det)"
      ],
      "metadata": {
        "colab": {
          "base_uri": "https://localhost:8080/"
        },
        "id": "8SMO0X-p71-M",
        "outputId": "254f87a5-62f3-4bb6-dcb9-1eecc5745100"
      },
      "execution_count": 21,
      "outputs": [
        {
          "output_type": "stream",
          "name": "stdout",
          "text": [
            "Correlation Coefficient:  0.913214127416157\n",
            "Coefficient of Determination:  0.8339600425124531\n"
          ]
        }
      ]
    },
    {
      "cell_type": "code",
      "source": [
        "#now plotting the regression line\n",
        "plt.figure(figsize=(12,8))\n",
        "sns.scatterplot(x, y, palette=\"inferno\")\n",
        "plt.title('Regression line', fontsize=15)\n",
        "plt.xlabel('Number of berries in bunch', fontsize=10)\n",
        "plt.ylabel('Wine production', fontsize=10)\n",
        "b0, b1, regline = lin_reg(x,y)\n",
        "plt.plot(x, b0 + b1*x, c='r')"
      ],
      "metadata": {
        "colab": {
          "base_uri": "https://localhost:8080/",
          "height": 592
        },
        "id": "-7S62nuK9V10",
        "outputId": "2ced742a-6fb4-411f-fd29-057fbe75ed12"
      },
      "execution_count": 33,
      "outputs": [
        {
          "output_type": "stream",
          "name": "stderr",
          "text": [
            "/usr/local/lib/python3.7/dist-packages/seaborn/_decorators.py:43: FutureWarning: Pass the following variables as keyword args: x, y. From version 0.12, the only valid positional argument will be `data`, and passing other arguments without an explicit keyword will result in an error or misinterpretation.\n",
            "  FutureWarning\n"
          ]
        },
        {
          "output_type": "execute_result",
          "data": {
            "text/plain": [
              "[<matplotlib.lines.Line2D at 0x7f9e539efed0>]"
            ]
          },
          "metadata": {},
          "execution_count": 33
        },
        {
          "output_type": "display_data",
          "data": {
            "text/plain": [
              "<Figure size 864x576 with 1 Axes>"
            ],
            "image/png": "[encoded data removed]"
          },
          "metadata": {}
        }
      ]
    },
    {
      "cell_type": "markdown",
      "source": [
        "4. Predict the yearly production of wine if the number of berries in a bunch of grapes\n",
        "is 100."
      ],
      "metadata": {
        "id": "PASL_dl9EVMz"
      }
    },
    {
      "cell_type": "code",
      "source": [
        "#predicting the value of wine production when the number of berries in a bunch of grapes is 100\n",
        "newy = b0 + (b1*100)\n",
        "print(\"Predicted Wine Production : \", round(newy, 2))"
      ],
      "metadata": {
        "colab": {
          "base_uri": "https://localhost:8080/"
        },
        "id": "md_xA8WY_c9O",
        "outputId": "fe3815a8-4f4f-4e91-efcb-eb6a92ee11ad"
      },
      "execution_count": 40,
      "outputs": [
        {
          "output_type": "stream",
          "name": "stdout",
          "text": [
            "Predicted Wine Production :  4.11\n"
          ]
        }
      ]
    },
    {
      "cell_type": "markdown",
      "source": [
        "### So The Predicted yearly wine production is 4.11 tons per 100 meter square if the number of berries in a bunch of grapes is 100."
      ],
      "metadata": {
        "id": "keXPVT6PJAQk"
      }
    },
    {
      "cell_type": "code",
      "source": [],
      "metadata": {
        "id": "QGNtIWZjFdon"
      },
      "execution_count": null,
      "outputs": []
    }
  ]
}