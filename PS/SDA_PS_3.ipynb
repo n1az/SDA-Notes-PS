{
  "nbformat": 4,
  "nbformat_minor": 0,
  "metadata": {
    "colab": {
      "provenance": [],
      "collapsed_sections": []
    },
    "kernelspec": {
      "name": "python3",
      "display_name": "Python 3"
    },
    "language_info": {
      "name": "python"
    }
  },
  "cells": [
    {
      "cell_type": "markdown",
      "source": [
        "###Statistical Data Analysis Problem sheet 3\n",
        "\n",
        "1. Exercise 1"
      ],
      "metadata": {
        "id": "8BbQA9ye7dzi"
      }
    },
    {
      "cell_type": "code",
      "execution_count": 37,
      "metadata": {
        "id": "J8ZdC37t7N7T"
      },
      "outputs": [],
      "source": [
        "#importing all the libraries\n",
        "import pandas as pd\n",
        "import numpy as np"
      ]
    },
    {
      "cell_type": "code",
      "source": [
        "#getting the X values as a dataframe\n",
        "dfx = pd.read_csv('/content/drive/MyDrive/1-DS/X.txt', sep=\",\", header=None)"
      ],
      "metadata": {
        "id": "fTZfGOEN8KCR"
      },
      "execution_count": 38,
      "outputs": []
    },
    {
      "cell_type": "code",
      "source": [
        "#getting the Y values as a dataframe\n",
        "dfy = pd.read_csv('/content/drive/MyDrive/1-DS/Y.txt', header= None)"
      ],
      "metadata": {
        "id": "Dns6F0CM8UhA"
      },
      "execution_count": 39,
      "outputs": []
    },
    {
      "cell_type": "markdown",
      "source": [
        "Now we need to convert them into matrix"
      ],
      "metadata": {
        "id": "XEkMGREsA-lG"
      }
    },
    {
      "cell_type": "code",
      "source": [
        "#converting to numpy array to get matrix\n",
        "x = dfx.to_numpy()\n",
        "y = dfy.to_numpy()"
      ],
      "metadata": {
        "id": "SpL_jkIG8fRF"
      },
      "execution_count": 40,
      "outputs": []
    },
    {
      "cell_type": "code",
      "source": [
        "#adding an identity column to the x to equalize the full rank p + 1\n",
        "x = np.insert(x, 0, 1.0, axis=1)"
      ],
      "metadata": {
        "id": "7vRg8ajWeu0y"
      },
      "execution_count": 41,
      "outputs": []
    },
    {
      "cell_type": "markdown",
      "source": [
        "**As the LS estimator is equivalent to the ML estimator based on the maximization of the log likelihood, we can estimate the beta hat from it.**"
      ],
      "metadata": {
        "id": "f-ty2SzzhA_S"
      }
    },
    {
      "cell_type": "code",
      "source": [
        "#beta hat estimating\n",
        "xt = np.transpose(x)\n",
        "xtx = xt.dot(x)\n",
        "\n",
        "beta = np.linalg.inv(xtx).dot(xt).dot(y)\n",
        "beta"
      ],
      "metadata": {
        "colab": {
          "base_uri": "https://localhost:8080/"
        },
        "id": "l5SiGLYZCBKE",
        "outputId": "3cf2d2c4-48fb-43cd-8dcc-08161dad920d"
      },
      "execution_count": 42,
      "outputs": [
        {
          "output_type": "execute_result",
          "data": {
            "text/plain": [
              "array([[-0.00800698],\n",
              "       [ 0.88161162],\n",
              "       [-2.45938171],\n",
              "       [-0.97715699]])"
            ]
          },
          "metadata": {},
          "execution_count": 42
        }
      ]
    },
    {
      "cell_type": "markdown",
      "source": [
        "* *Here we get B0, B1, B2 and B3 for the multiple linear regression model*\n",
        "\n",
        "* As the mean is 0 and the constant variance is 1 which gives us that N is a standard normal distrbution."
      ],
      "metadata": {
        "id": "b6YO2zUuisqN"
      }
    },
    {
      "cell_type": "code",
      "source": [
        "#now we can get the sigma hat square in the multiple linear regression model\n",
        "sgms =  (np.transpose(y-x.dot(beta))*(y-x.dot(beta))) / 201\n",
        "sgms"
      ],
      "metadata": {
        "colab": {
          "base_uri": "https://localhost:8080/"
        },
        "id": "lkYoyL1CCZFh",
        "outputId": "869422ce-2c23-4a4f-ac59-44723772152f"
      },
      "execution_count": 43,
      "outputs": [
        {
          "output_type": "execute_result",
          "data": {
            "text/plain": [
              "array([[ 1.43756944e-04, -2.60179376e-04,  4.88288715e-05, ...,\n",
              "        -8.27929177e-04, -5.93215518e-04, -6.80968604e-04],\n",
              "       [-2.60179376e-04,  4.70887219e-04, -8.83732288e-05, ...,\n",
              "         1.49843263e-03,  1.07363470e-03,  1.23245515e-03],\n",
              "       [ 4.88288715e-05, -8.83732288e-05,  1.65853462e-05, ...,\n",
              "        -2.81216658e-04, -2.01493183e-04, -2.31299633e-04],\n",
              "       ...,\n",
              "       [-8.27929177e-04,  1.49843263e-03, -2.81216658e-04, ...,\n",
              "         4.76823381e-03,  3.41646407e-03,  3.92185420e-03],\n",
              "       [-5.93215518e-04,  1.07363470e-03, -2.01493183e-04, ...,\n",
              "         3.41646407e-03,  2.44791410e-03,  2.81002872e-03],\n",
              "       [-6.80968604e-04,  1.23245515e-03, -2.31299633e-04, ...,\n",
              "         3.92185420e-03,  2.81002872e-03,  3.22571018e-03]])"
            ]
          },
          "metadata": {},
          "execution_count": 43
        }
      ]
    },
    {
      "cell_type": "code",
      "source": [
        "#now we can also get the adjusted estimator of the variance hat\n",
        "sgad = ((np.transpose(y).dot(y))- (np.transpose(beta).dot(xt).dot(y))) / (201 - 3 - 1)\n",
        "sgad"
      ],
      "metadata": {
        "colab": {
          "base_uri": "https://localhost:8080/"
        },
        "id": "dWq-7ffsOqXu",
        "outputId": "6ae59707-f65d-4f98-8acf-8a602c6310fd"
      },
      "execution_count": 44,
      "outputs": [
        {
          "output_type": "execute_result",
          "data": {
            "text/plain": [
              "array([[0.97422819]])"
            ]
          },
          "metadata": {},
          "execution_count": 44
        }
      ]
    },
    {
      "cell_type": "code",
      "source": [],
      "metadata": {
        "id": "FYIOa2fBjoy2"
      },
      "execution_count": null,
      "outputs": []
    }
  ]
}